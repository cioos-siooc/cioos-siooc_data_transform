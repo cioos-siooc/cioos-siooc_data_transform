{
 "cells": [
  {
   "cell_type": "code",
   "execution_count": 1,
   "metadata": {},
   "outputs": [],
   "source": [
    "import xarray as xr\n",
    "import yaml\n",
    "import glob\n",
    "from datetime import datetime, timedelta\n",
    "from pytz import timezone"
   ]
  },
  {
   "cell_type": "code",
   "execution_count": 3,
   "metadata": {},
   "outputs": [
    {
     "name": "stdout",
     "output_type": "stream",
     "text": [
      "{'path_raw': '/home/pramod/data/PRIMED/private/', 'path_erddap': '/home/pramod/code/hakai_code/ios-erddap/datasets/PRIMED/'}\n"
     ]
    }
   ],
   "source": [
    "with open('../../env.yaml', 'r') as fid:\n",
    "    env = yaml.load(fid, Loader = yaml.FullLoader)\n",
    "print(env)"
   ]
  },
  {
   "cell_type": "code",
   "execution_count": 4,
   "metadata": {},
   "outputs": [
    {
     "name": "stdout",
     "output_type": "stream",
     "text": [
      "['/home/pramod/data/PRIMED/private/103p1_d03.nc', '/home/pramod/data/PRIMED/private/108p1_d02.nc', '/home/pramod/data/PRIMED/private/101p1_d07.nc', '/home/pramod/data/PRIMED/private/101p1_d06.nc', '/home/pramod/data/PRIMED/private/101p1_d08.nc', '/home/pramod/data/PRIMED/private/101p1_d09.nc']\n"
     ]
    }
   ],
   "source": [
    "flist = glob.glob(env['path_raw']+'*.nc')\n",
    "print(flist)"
   ]
  },
  {
   "cell_type": "code",
   "execution_count": 5,
   "metadata": {},
   "outputs": [
    {
     "name": "stdout",
     "output_type": "stream",
     "text": [
      "/home/pramod/data/PRIMED/private/103p1_d03.nc\n",
      "Deleting dimension... hneSampleTime\n",
      "Deleting dimension... uvhSampleTime\n",
      "Deleting dimension... wavespecFrequency\n",
      "['time', 'metaDeployLatitude', 'metaDeployLongitude']\n",
      "seconds since 1970-01-01T00:00:00+00:00\n",
      "/home/pramod/data/PRIMED/private/108p1_d02.nc\n",
      "['time', 'metaDeployLatitude', 'metaDeployLongitude']\n",
      "seconds since 1970-01-01T00:00:00+00:00\n",
      "/home/pramod/data/PRIMED/private/101p1_d07.nc\n",
      "Deleting dimension... wavespecFrequency\n",
      "['time', 'acmBinDepth', 'metaDeployLatitude', 'metaDeployLongitude']\n",
      "seconds since 1970-01-01T00:00:00+00:00\n",
      "/home/pramod/data/PRIMED/private/101p1_d06.nc\n",
      "Deleting dimension... wavespecFrequency\n",
      "['time', 'acmBinDepth', 'metaDeployLatitude', 'metaDeployLongitude']\n",
      "seconds since 1970-01-01T00:00:00+00:00\n",
      "/home/pramod/data/PRIMED/private/101p1_d08.nc\n",
      "Deleting dimension... hneSampleTime\n",
      "Deleting dimension... uvhSampleTime\n",
      "Deleting dimension... wavespecFrequency\n",
      "['time', 'acmBinDepth', 'metaDeployLatitude', 'metaDeployLongitude']\n",
      "seconds since 1970-01-01T00:00:00+00:00\n",
      "/home/pramod/data/PRIMED/private/101p1_d09.nc\n",
      "Deleting dimension... wavespecFrequency\n",
      "['time', 'acmBinDepth', 'metaDeployLatitude', 'metaDeployLongitude']\n",
      "seconds since 1970-01-01T00:00:00+00:00\n"
     ]
    }
   ],
   "source": [
    "for f in flist[0:]:\n",
    "    print(f)\n",
    "    data = xr.load_dataset(f, decode_times=False)\n",
    "    for dim in data.dims:\n",
    "        if any([v in dim for v in ['wavespec','uvh','hne']]):\n",
    "            print('Deleting dimension...', dim)\n",
    "            data = data.drop_dims(dim)\n",
    "    print([i for i in data.coords])\n",
    "\n",
    "    for var in data.data_vars:\n",
    "        if any([v in var for v in ['wavespec','uvh','hne']]):\n",
    "            print('Deleting variable', var)\n",
    "            data = data.drop_vars(var)\n",
    "    data['filename'] = f.split('/')[-1].strip()\n",
    "    fnew = env['path_erddap'] + f.split('/')[-1].strip()[0:-3]+'-public.nc'\n",
    "\n",
    "    print(data['time'].attrs['units'])\n",
    "#     t0 = datetime.strptime(data['time'].attrs['units'].strip()[-19:],'%Y-%m-%d %H:%M:%S')\n",
    "#     t0 = timezone('UTC').localize(t0)\n",
    "#     newtime = [t0 + timedelta(hours=int(i)) for i in data['time'].values]\n",
    "#     buf = [i - timezone('UTC').localize(datetime(1970, 1, 1, 0, 0, 0)) for i in newtime]\n",
    "#     time = [int(i.total_seconds()) for i in buf]\n",
    "#     data['time'] = data['time'].assign_attrs({'units': 'seconds since 1970-01-01 00:00:00+0000'})\n",
    "#     data['time'].values = time\n",
    "\n",
    "    data.to_netcdf(fnew, mode='w', format='NETCDF4')"
   ]
  },
  {
   "cell_type": "code",
   "execution_count": 6,
   "metadata": {},
   "outputs": [
    {
     "name": "stdout",
     "output_type": "stream",
     "text": [
      "<xarray.Dataset>\n",
      "Dimensions:                   (acmBinDepth: 1, time: 24)\n",
      "Coordinates:\n",
      "  * time                      (time) int64 1574640000 1574643600 ... 1574722800\n",
      "  * acmBinDepth               (acmBinDepth) float64 1.0\n",
      "    metaDeployLatitude        float64 48.89\n",
      "    metaDeployLongitude       float64 -125.6\n",
      "Data variables:\n",
      "    downcrossWaveCount        (time) float64 115.0 108.0 119.0 ... 155.0 149.0\n",
      "    downcrossHavg             (time) float64 2.0 2.0 1.79 1.87 ... 1.72 1.7 1.75\n",
      "    downcrossTz               (time) float64 8.9 9.4 8.6 8.9 ... 7.4 7.2 6.6 6.9\n",
      "    downcrossHmax             (time) float64 4.57 5.09 4.13 ... 4.13 4.95 5.16\n",
      "    downcrossT_at_Hmax        (time) float64 11.5 13.4 14.1 ... 11.1 9.9 12.5\n",
      "    downcrossHs               (time) float64 3.33 3.24 2.92 ... 2.81 2.72 2.81\n",
      "    downcrossTs               (time) float64 11.9 12.4 11.6 ... 10.6 9.4 10.3\n",
      "    downcrossH10              (time) float64 4.18 3.9 3.5 3.61 ... 3.43 3.41 3.5\n",
      "    downcrossT10              (time) float64 12.1 12.1 12.3 ... 11.4 11.3 11.0\n",
      "    waveCrestMax              (time) float64 2.71 2.6 2.67 ... 2.45 3.45 3.1\n",
      "    waveTz                    (time) float64 8.9 8.8 8.6 8.4 ... 6.9 7.0 6.6 6.8\n",
      "    waveTp                    (time) float64 11.1 15.4 14.3 ... 13.3 14.3 14.3\n",
      "    waveDp                    (time) float64 287.2 287.2 298.2 ... 294.2 296.2\n",
      "    wavePeakSpread            (time) float64 19.0 25.0 25.0 ... 24.0 24.0 22.0\n",
      "    waveTp5                   (time) float64 12.8 15.1 12.4 ... 13.6 13.2 13.9\n",
      "    waveHs                    (time) float64 3.44 3.3 2.99 ... 2.93 2.92 3.06\n",
      "    waveMeanDirection         (time) float64 285.2 284.2 285.2 ... 289.2 291.2\n",
      "    waveMeanSpread            (time) float64 27.0 28.0 29.0 ... 25.0 28.0 28.0\n",
      "    waveTe                    (time) float64 11.46 11.91 11.0 ... 9.82 10.06\n",
      "    gpsLatitude               (time) float64 48.89 48.89 48.89 ... 48.89 48.89\n",
      "    gpsLongitude              (time) float64 -125.6 -125.6 ... -125.6 -125.6\n",
      "    metWSpd                   (time) float64 3.4 6.8 4.1 5.0 ... 10.6 11.4 11.0\n",
      "    metWDir                   (time) float64 253.2 300.2 284.2 ... 294.2 290.2\n",
      "    sstSeaSurfaceTemperature  (time) float64 9.59 9.6 9.59 ... 9.91 10.06 9.87\n",
      "    acmSpeed                  (time, acmBinDepth) float64 0.2256 ... 0.4173\n",
      "    acmDirection              (time, acmBinDepth) float64 164.0 164.7 ... 180.6\n",
      "    metaStationName           <U19 'Amphitrite Bank, BC'\n",
      "    metaWaterDepth            float64 45.0\n",
      "    metaDeclination           float64 16.18\n",
      "    metaGridMapping           <U17 '48.8895_-125.6372'\n",
      "    height                    float64 0.0\n",
      "    metaWaveInstrumentation   <U1 ''\n",
      "    metaAcmInstrumentation    <U1 ''\n",
      "    metaGPSInstrumentation    <U1 ''\n",
      "    metaMetInstrumentation    <U1 ''\n",
      "    metaPlatform              <U1 ''\n",
      "    filename                  <U12 '101p1_d08.nc'\n",
      "Attributes:\n",
      "    naming_authority:                uvic.ca/primed\n",
      "    keywords_vocabulary:             Global Change Master Directory (GCMD) Ea...\n",
      "    creator_name:                    The University of Victoria - Institute f...\n",
      "    creator_url:                     uvic.ca/primed\n",
      "    creator_email:                   primed@uvic.ca\n",
      "    publisher_name:                  The University of Victoria - Institute f...\n",
      "    publisher_url:                   http://uvic.ca/primed\n",
      "    publisher_email:                 primed@uvic.ca\n",
      "    institution:                     The University of Victoria\n",
      "    project:                         Pacific Regional Institute for Marine En...\n",
      "    standard_name_vocabulary:        CF Standard Name Table (v76, 13 October ...\n",
      "    Conventions:                     CF-1.7, ACDD-1.3\n",
      "    license:                         These data may be used and distributed o...\n",
      "    cdm_data_type:                   Station\n",
      "    featureType:                     timeSeries\n",
      "    ncei_template_version:           NCEI_NetCDF_TimeSeries_Orthogonal_Templa...\n",
      "    refrences:                       https://www.nodc.noaa.gov/data/formats/n...\n",
      "    acknowledgment:                  PRIMED was created with funds from Weser...\n",
      "    contributor_name:                PRIMED\n",
      "    contributor_role:                station operation and data management\n",
      "    source:                          insitu observations\n",
      "    platform:                        metaPlatform\n",
      "    instrument:                      metaInstrumentation\n",
      "    date_created:                    2021-02-10T16:00:57.712036\n",
      "    date_issued:                     2021-02-10T16:00:57.712036\n",
      "    date_modified:                   2021-02-10T16:00:57.712036\n",
      "    history:                         Dataset created on 2021-02-10T16:00:57.7...\n",
      "    time_coverage_start:             2019-11-25 00:00\n",
      "    time_coverage_end:               2019-11-25 23:00\n",
      "    time_coverage_duration:          PT23H00M00S\n",
      "    time_coverage_resolution:        PT01H00M00S\n",
      "    processing_level:                2\n",
      "    conventions:                     CF-1.7, ACDD-1.3\n",
      "    geospatial_lat_min:              48.88738333333334\n",
      "    geospatial_lat_max:              48.88761666666666\n",
      "    geospatial_lon_min:              -125.63483333333333\n",
      "    geospatial_lon_max:              -125.63425000000001\n",
      "    geospatial_bounds:               POLYGON ((-125.63483333333333 48.8873833...\n",
      "    title:                           Directional wave, wind, sea surface temp...\n",
      "    summary:                         Directional wave, wind, sea surface temp...\n",
      "    keywords:                        EARTH SCIENCE, OCEANS, OCEAN WAVES, GRAV...\n",
      "    comment:                         This data is from a completed deployment...\n",
      "    id:                              101p1_d08\n",
      "    geospatial_lat_units:            degrees_north\n",
      "    geospatial_lat_resolution:       1e-04\n",
      "    geospatial_lon_units:            degrees_east\n",
      "    geospatial_lon_resolution:       1e-04\n",
      "    geospatial_vertical_min:         0.0\n",
      "    geospatial_vertical_max:         0.0\n",
      "    geospatial_vertical_units:       meters\n",
      "    geospatial_vertical_origin:      sea surface\n",
      "    geospatial_vertical_positive:    up\n",
      "    geospatial_vertical_resolution:  1.0\n",
      "    geospatial_bounds_crs:           epsg:4326\n",
      "    geospatial_bounds_vertical_crs:  epsg:5829\n"
     ]
    }
   ],
   "source": [
    "data = xr.load_dataset('/home/pramod/code/hakai_code/ios-erddap/datasets/PRIMED/101p1_d08-public.nc', \n",
    "                       decode_times=False)\n",
    "print(data)"
   ]
  },
  {
   "cell_type": "code",
   "execution_count": null,
   "metadata": {},
   "outputs": [],
   "source": []
  }
 ],
 "metadata": {
  "kernelspec": {
   "display_name": "Python [conda env:py3] *",
   "language": "python",
   "name": "conda-env-py3-py"
  },
  "language_info": {
   "codemirror_mode": {
    "name": "ipython",
    "version": 3
   },
   "file_extension": ".py",
   "mimetype": "text/x-python",
   "name": "python",
   "nbconvert_exporter": "python",
   "pygments_lexer": "ipython3",
   "version": "3.7.3"
  }
 },
 "nbformat": 4,
 "nbformat_minor": 2
}
