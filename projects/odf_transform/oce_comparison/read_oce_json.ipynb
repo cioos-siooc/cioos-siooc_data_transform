{
 "cells": [
  {
   "cell_type": "code",
   "execution_count": 1,
   "metadata": {},
   "outputs": [],
   "source": [
    "import sys\n",
    "sys.path.insert(0, '../../')\n",
    "# sys.path.insert(0, '../../cioos-siooc_data_transform/cioos_data_transform/ios_data_transform/')\n",
    "import odf_transform as odf\n",
    "import pandas as pd\n",
    "import xarray as xr\n",
    "import numpy as np\n",
    "import json\n",
    "# from ios_data_transform.OceanNcFile import CtdNcFile\n",
    "# from ios_data_transform.OceanNcVar import OceanNcVar\n",
    "# from ios_data_transform.utils.utils import is_in, release_memory, find_geographic_area, read_geojson\n",
    "from datetime import datetime\n",
    "from netCDF4 import Dataset as ncdata\n",
    "from shapely.geometry import Point"
   ]
  },
  {
   "cell_type": "code",
   "execution_count": 2,
   "metadata": {},
   "outputs": [
    {
     "ename": "TypeError",
     "evalue": "__init__() missing 6 required positional arguments: 'vartype', 'varname', 'varunits', 'varmin', 'varmax', and 'varval'",
     "output_type": "error",
     "traceback": [
      "\u001b[0;31m---------------------------------------------------------------------------\u001b[0m",
      "\u001b[0;31mTypeError\u001b[0m                                 Traceback (most recent call last)",
      "\u001b[0;32m<ipython-input-2-ca9499145741>\u001b[0m in \u001b[0;36m<module>\u001b[0;34m\u001b[0m\n\u001b[1;32m      1\u001b[0m \u001b[0mout\u001b[0m \u001b[0;34m=\u001b[0m \u001b[0modf\u001b[0m\u001b[0;34m.\u001b[0m\u001b[0mCtdNcFile\u001b[0m\u001b[0;34m(\u001b[0m\u001b[0;34m)\u001b[0m\u001b[0;34m\u001b[0m\u001b[0;34m\u001b[0m\u001b[0m\n\u001b[0;32m----> 2\u001b[0;31m \u001b[0mvar\u001b[0m \u001b[0;34m=\u001b[0m \u001b[0modf\u001b[0m\u001b[0;34m.\u001b[0m\u001b[0mNcVar\u001b[0m\u001b[0;34m(\u001b[0m\u001b[0;34m)\u001b[0m\u001b[0;34m\u001b[0m\u001b[0;34m\u001b[0m\u001b[0m\n\u001b[0m",
      "\u001b[0;31mTypeError\u001b[0m: __init__() missing 6 required positional arguments: 'vartype', 'varname', 'varunits', 'varmin', 'varmax', and 'varval'"
     ]
    }
   ],
   "source": [
    "out = odf.CtdNcFile()\n",
    "var = odf.NcVar()"
   ]
  },
  {
   "cell_type": "code",
   "execution_count": 2,
   "metadata": {},
   "outputs": [],
   "source": [
    "fjson = '/home/pramod/data/ODF/CTD_2019004_1_2A_DN.json'\n",
    "# odf_data = pd.read_json(fjson)\n",
    "\n",
    "with open(fjson, 'r') as myfile:\n",
    "    data=myfile.read()\n",
    "# parse file\n",
    "    obj = json.loads(data)"
   ]
  },
  {
   "cell_type": "code",
   "execution_count": 3,
   "metadata": {},
   "outputs": [
    {
     "name": "stdout",
     "output_type": "stream",
     "text": [
      "dict_keys(['units', 'flags', 'filename', 'deploymentType', 'header', 'depthOffBottom', 'initialLatitude', 'initialLongitude', 'endLatitude', 'endLongitude', 'samplingInterval', 'scientist', 'ship', 'institute', 'station', 'latitude', 'longitude', 'cruise', 'countryInstituteCode', 'cruiseNumber', 'startTime', 'eventNumber', 'eventQualifier', 'depthMin', 'depthMax', 'sounding', 'waterDepth', 'type', 'serialNumber', 'model', 'dataNamesOriginal', 'sampleInterval', 'pressureType'])\n",
      "IML\n",
      "1-2A\n",
      "2019004-1\n",
      "1555604000.0\n"
     ]
    }
   ],
   "source": [
    "print(obj['metadata'].keys())\n",
    "print(obj['metadata']['institute'])\n",
    "print(obj['metadata']['eventNumber']+'-'+ obj['metadata']['eventQualifier'])\n",
    "print(obj['metadata']['cruiseNumber']+'-'+obj['metadata']['eventNumber'])\n",
    "print(obj['metadata']['startTime'])\n",
    "# print(obj['metadata']['units'])"
   ]
  },
  {
   "cell_type": "code",
   "execution_count": 4,
   "metadata": {},
   "outputs": [
    {
     "name": "stdout",
     "output_type": "stream",
     "text": [
      "dict_keys(['ODF_HEADER', 'CRUISE_HEADER', 'EVENT_HEADER', 'METEO_HEADER', 'INSTRUMENT_HEADER', 'QUALITY_HEADER', 'GENERAL_CAL_HEADER', 'GENERAL_CAL_HEADER2', 'GENERAL_CAL_HEADER3', 'GENERAL_CAL_HEADER4', 'GENERAL_CAL_HEADER5', 'GENERAL_CAL_HEADER6', 'GENERAL_CAL_HEADER7', 'HISTORY_HEADER', 'HISTORY_HEADER2', 'PARAMETER_HEADER', 'PARAMETER_HEADER2', 'PARAMETER_HEADER3', 'PARAMETER_HEADER4', 'PARAMETER_HEADER5', 'PARAMETER_HEADER6', 'PARAMETER_HEADER7', 'PARAMETER_HEADER8', 'PARAMETER_HEADER9', 'PARAMETER_HEADER10', 'PARAMETER_HEADER11', 'PARAMETER_HEADER12', 'PARAMETER_HEADER13', 'PARAMETER_HEADER14', 'PARAMETER_HEADER15', 'PARAMETER_HEADER16', 'PARAMETER_HEADER17', 'PARAMETER_HEADER18', 'PARAMETER_HEADER19', 'PARAMETER_HEADER20', 'PARAMETER_HEADER21', 'RECORD_HEADER']) /n/n\n",
      "{'FILE_SPECIFICATION ': \"'CTD_2019004_1_2A_DN'\"}\n"
     ]
    }
   ],
   "source": [
    "print(obj['metadata']['header'].keys(),'/n/n')\n",
    "print(obj['metadata']['header']['ODF_HEADER'])"
   ]
  },
  {
   "cell_type": "code",
   "execution_count": 5,
   "metadata": {},
   "outputs": [
    {
     "name": "stdout",
     "output_type": "stream",
     "text": [
      "dict_keys(['units', 'flags', 'filename', 'deploymentType', 'header', 'depthOffBottom', 'initialLatitude', 'initialLongitude', 'endLatitude', 'endLongitude', 'samplingInterval', 'scientist', 'ship', 'institute', 'station', 'latitude', 'longitude', 'cruise', 'countryInstituteCode', 'cruiseNumber', 'startTime', 'eventNumber', 'eventQualifier', 'depthMin', 'depthMax', 'sounding', 'waterDepth', 'type', 'serialNumber', 'model', 'dataNamesOriginal', 'sampleInterval', 'pressureType'])\n",
      "C:\\Users\\jessy\\Documents\\repositories\\cioos-siooc_data_transform\\cioos_data_transform\\mli_data\\sample_data\\2020-12-23\\ODF_files_MLI\\CTD_2019004_1_2A_DN.ODF\n"
     ]
    }
   ],
   "source": [
    "print(obj['metadata'].keys())\n",
    "print(obj['metadata']['filename'].split('/')[-1])\n",
    "# print(odf_data.metadata.header['ODF_HEADER'])\n",
    "# print(odf_data.metadata['dataNamesOriginal'].keys())"
   ]
  },
  {
   "cell_type": "code",
   "execution_count": 11,
   "metadata": {},
   "outputs": [
    {
     "name": "stdout",
     "output_type": "stream",
     "text": [
      "scan [] 661\n",
      "pressure ['dbar'] 661\n",
      "temperature [['*', 'degree', 'C']] 661\n",
      "conductivity [['/', 'S', 'm']] 661\n",
      "OXV_ ['V'] 661\n",
      "fluorometer [['/', 'mg', ['^', 'm', 3]]] 661\n",
      "TRB_ ['NTU'] 661\n",
      "PHT_ Total scale 661\n",
      "DPDT [['/', 'metres', 'sec']] 661\n",
      "depth ['m'] 661\n",
      "salinity [] 661\n",
      "sigmat [['/', 'kg', ['^', 'm', 3]]] 661\n",
      "oxygen [['/', 'ml', 'l']] 661\n"
     ]
    }
   ],
   "source": [
    "with open(fjson, 'r') as myfile:\n",
    "    data=myfile.read()\n",
    "    obj = json.loads(data)\n",
    "\n",
    "for v in obj['data'].keys():\n",
    "    print(v, obj['metadata']['units'][v]['unit'], len(obj['data'][v]))"
   ]
  },
  {
   "cell_type": "code",
   "execution_count": 7,
   "metadata": {},
   "outputs": [
    {
     "name": "stdout",
     "output_type": "stream",
     "text": [
      "dict_keys(['units', 'flags', 'filename', 'deploymentType', 'header', 'depthOffBottom', 'initialLatitude', 'initialLongitude', 'endLatitude', 'endLongitude', 'samplingInterval', 'scientist', 'ship', 'institute', 'station', 'latitude', 'longitude', 'cruise', 'countryInstituteCode', 'cruiseNumber', 'startTime', 'eventNumber', 'eventQualifier', 'depthMin', 'depthMax', 'sounding', 'waterDepth', 'type', 'serialNumber', 'model', 'dataNamesOriginal', 'sampleInterval', 'pressureType'])\n"
     ]
    }
   ],
   "source": [
    "print(obj['metadata'].keys())"
   ]
  },
  {
   "cell_type": "code",
   "execution_count": 8,
   "metadata": {},
   "outputs": [
    {
     "ename": "AttributeError",
     "evalue": "'dict' object has no attribute 'metadata'",
     "output_type": "error",
     "traceback": [
      "\u001b[0;31m---------------------------------------------------------------------------\u001b[0m",
      "\u001b[0;31mAttributeError\u001b[0m                            Traceback (most recent call last)",
      "\u001b[0;32m<ipython-input-8-531c763bbd07>\u001b[0m in \u001b[0;36m<module>\u001b[0;34m\u001b[0m\n\u001b[0;32m----> 1\u001b[0;31m \u001b[0;32mfor\u001b[0m \u001b[0mv\u001b[0m \u001b[0;32min\u001b[0m \u001b[0mobj\u001b[0m\u001b[0;34m.\u001b[0m\u001b[0mmetadata\u001b[0m\u001b[0;34m[\u001b[0m\u001b[0;34m'dataNamesOriginal'\u001b[0m\u001b[0;34m]\u001b[0m\u001b[0;34m.\u001b[0m\u001b[0mkeys\u001b[0m\u001b[0;34m(\u001b[0m\u001b[0;34m)\u001b[0m\u001b[0;34m:\u001b[0m\u001b[0;34m\u001b[0m\u001b[0;34m\u001b[0m\u001b[0m\n\u001b[0m\u001b[1;32m      2\u001b[0m \u001b[0;31m#     print(odf_data.data[v])\u001b[0m\u001b[0;34m\u001b[0m\u001b[0;34m\u001b[0m\u001b[0;34m\u001b[0m\u001b[0m\n\u001b[1;32m      3\u001b[0m     \u001b[0mprint\u001b[0m\u001b[0;34m(\u001b[0m\u001b[0mv\u001b[0m\u001b[0;34m,\u001b[0m \u001b[0modf_data\u001b[0m\u001b[0;34m.\u001b[0m\u001b[0mmetadata\u001b[0m\u001b[0;34m.\u001b[0m\u001b[0munits\u001b[0m\u001b[0;34m[\u001b[0m\u001b[0mv\u001b[0m\u001b[0;34m]\u001b[0m\u001b[0;34m)\u001b[0m\u001b[0;34m\u001b[0m\u001b[0;34m\u001b[0m\u001b[0m\n\u001b[1;32m      4\u001b[0m     \u001b[0;32mtry\u001b[0m\u001b[0;34m:\u001b[0m\u001b[0;34m\u001b[0m\u001b[0;34m\u001b[0m\u001b[0m\n\u001b[1;32m      5\u001b[0m         \u001b[0mprint\u001b[0m\u001b[0;34m(\u001b[0m\u001b[0mv\u001b[0m\u001b[0;34m,\u001b[0m \u001b[0;34m''\u001b[0m\u001b[0;34m.\u001b[0m\u001b[0mjoin\u001b[0m\u001b[0;34m(\u001b[0m\u001b[0modf_data\u001b[0m\u001b[0;34m.\u001b[0m\u001b[0mmetadata\u001b[0m\u001b[0;34m.\u001b[0m\u001b[0munits\u001b[0m\u001b[0;34m[\u001b[0m\u001b[0mv\u001b[0m\u001b[0;34m]\u001b[0m\u001b[0;34m[\u001b[0m\u001b[0;34m'unit'\u001b[0m\u001b[0;34m]\u001b[0m\u001b[0;34m)\u001b[0m\u001b[0;34m)\u001b[0m\u001b[0;34m\u001b[0m\u001b[0;34m\u001b[0m\u001b[0m\n",
      "\u001b[0;31mAttributeError\u001b[0m: 'dict' object has no attribute 'metadata'"
     ]
    }
   ],
   "source": [
    "for v in obj.metadata['dataNamesOriginal'].keys():\n",
    "#     print(odf_data.data[v])\n",
    "    print(v, odf_data.metadata.units[v])\n",
    "    try:\n",
    "        print(v, ''.join(odf_data.metadata.units[v]['unit']))\n",
    "    except:\n",
    "        pass "
   ]
  },
  {
   "cell_type": "code",
   "execution_count": null,
   "metadata": {},
   "outputs": [],
   "source": [
    "out = CtdNcFile()\n",
    "out.featureType = 'profile'"
   ]
  },
  {
   "cell_type": "code",
   "execution_count": null,
   "metadata": {},
   "outputs": [],
   "source": [
    "print(out)"
   ]
  },
  {
   "cell_type": "code",
   "execution_count": null,
   "metadata": {},
   "outputs": [],
   "source": []
  }
 ],
 "metadata": {
  "kernelspec": {
   "display_name": "Python [conda env:py3] *",
   "language": "python",
   "name": "conda-env-py3-py"
  },
  "language_info": {
   "codemirror_mode": {
    "name": "ipython",
    "version": 3
   },
   "file_extension": ".py",
   "mimetype": "text/x-python",
   "name": "python",
   "nbconvert_exporter": "python",
   "pygments_lexer": "ipython3",
   "version": "3.7.3"
  }
 },
 "nbformat": 4,
 "nbformat_minor": 2
}
