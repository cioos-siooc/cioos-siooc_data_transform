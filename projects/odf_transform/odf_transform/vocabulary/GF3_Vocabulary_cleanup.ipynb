{
  "nbformat": 4,
  "nbformat_minor": 0,
  "metadata": {
    "colab": {
      "name": "GF3_Vocabulary_cleanup.ipynb",
      "provenance": [],
      "collapsed_sections": []
    },
    "kernelspec": {
      "name": "python3",
      "display_name": "Python 3"
    },
    "language_info": {
      "name": "python"
    },
    "widgets": {
      "application/vnd.jupyter.widget-state+json": {
        "83ba4aaf527b442c9171de73843ce22b": {
          "model_module": "@jupyter-widgets/controls",
          "model_name": "HBoxModel",
          "state": {
            "_view_name": "HBoxView",
            "_dom_classes": [],
            "_model_name": "HBoxModel",
            "_view_module": "@jupyter-widgets/controls",
            "_model_module_version": "1.5.0",
            "_view_count": null,
            "_view_module_version": "1.5.0",
            "box_style": "",
            "layout": "IPY_MODEL_4c934c4b7b2d47eba30a3e2190141131",
            "_model_module": "@jupyter-widgets/controls",
            "children": [
              "IPY_MODEL_54841dd69426415e81803660174013e2",
              "IPY_MODEL_2b8c0582639344bfb95f9572154f9945"
            ]
          }
        },
        "4c934c4b7b2d47eba30a3e2190141131": {
          "model_module": "@jupyter-widgets/base",
          "model_name": "LayoutModel",
          "state": {
            "_view_name": "LayoutView",
            "grid_template_rows": null,
            "right": null,
            "justify_content": null,
            "_view_module": "@jupyter-widgets/base",
            "overflow": null,
            "_model_module_version": "1.2.0",
            "_view_count": null,
            "flex_flow": null,
            "width": null,
            "min_width": null,
            "border": null,
            "align_items": null,
            "bottom": null,
            "_model_module": "@jupyter-widgets/base",
            "top": null,
            "grid_column": null,
            "overflow_y": null,
            "overflow_x": null,
            "grid_auto_flow": null,
            "grid_area": null,
            "grid_template_columns": null,
            "flex": null,
            "_model_name": "LayoutModel",
            "justify_items": null,
            "grid_row": null,
            "max_height": null,
            "align_content": null,
            "visibility": null,
            "align_self": null,
            "height": null,
            "min_height": null,
            "padding": null,
            "grid_auto_rows": null,
            "grid_gap": null,
            "max_width": null,
            "order": null,
            "_view_module_version": "1.2.0",
            "grid_template_areas": null,
            "object_position": null,
            "object_fit": null,
            "grid_auto_columns": null,
            "margin": null,
            "display": null,
            "left": null
          }
        },
        "54841dd69426415e81803660174013e2": {
          "model_module": "@jupyter-widgets/controls",
          "model_name": "FloatProgressModel",
          "state": {
            "_view_name": "ProgressView",
            "style": "IPY_MODEL_282c53cb9d29466aa4414ad8e308fb1a",
            "_dom_classes": [],
            "description": "100%",
            "_model_name": "FloatProgressModel",
            "bar_style": "success",
            "max": 121,
            "_view_module": "@jupyter-widgets/controls",
            "_model_module_version": "1.5.0",
            "value": 121,
            "_view_count": null,
            "_view_module_version": "1.5.0",
            "orientation": "horizontal",
            "min": 0,
            "description_tooltip": null,
            "_model_module": "@jupyter-widgets/controls",
            "layout": "IPY_MODEL_2e75c4e743ad423499fb6dab6c94830f"
          }
        },
        "2b8c0582639344bfb95f9572154f9945": {
          "model_module": "@jupyter-widgets/controls",
          "model_name": "HTMLModel",
          "state": {
            "_view_name": "HTMLView",
            "style": "IPY_MODEL_e27a581b8bfa40549f1cd3f394ad1a08",
            "_dom_classes": [],
            "description": "",
            "_model_name": "HTMLModel",
            "placeholder": "​",
            "_view_module": "@jupyter-widgets/controls",
            "_model_module_version": "1.5.0",
            "value": " 121/121 [03:32&lt;00:00,  1.76s/it]",
            "_view_count": null,
            "_view_module_version": "1.5.0",
            "description_tooltip": null,
            "_model_module": "@jupyter-widgets/controls",
            "layout": "IPY_MODEL_a8fece8730664ec9bbfae591fe8d005f"
          }
        },
        "282c53cb9d29466aa4414ad8e308fb1a": {
          "model_module": "@jupyter-widgets/controls",
          "model_name": "ProgressStyleModel",
          "state": {
            "_view_name": "StyleView",
            "_model_name": "ProgressStyleModel",
            "description_width": "initial",
            "_view_module": "@jupyter-widgets/base",
            "_model_module_version": "1.5.0",
            "_view_count": null,
            "_view_module_version": "1.2.0",
            "bar_color": null,
            "_model_module": "@jupyter-widgets/controls"
          }
        },
        "2e75c4e743ad423499fb6dab6c94830f": {
          "model_module": "@jupyter-widgets/base",
          "model_name": "LayoutModel",
          "state": {
            "_view_name": "LayoutView",
            "grid_template_rows": null,
            "right": null,
            "justify_content": null,
            "_view_module": "@jupyter-widgets/base",
            "overflow": null,
            "_model_module_version": "1.2.0",
            "_view_count": null,
            "flex_flow": null,
            "width": null,
            "min_width": null,
            "border": null,
            "align_items": null,
            "bottom": null,
            "_model_module": "@jupyter-widgets/base",
            "top": null,
            "grid_column": null,
            "overflow_y": null,
            "overflow_x": null,
            "grid_auto_flow": null,
            "grid_area": null,
            "grid_template_columns": null,
            "flex": null,
            "_model_name": "LayoutModel",
            "justify_items": null,
            "grid_row": null,
            "max_height": null,
            "align_content": null,
            "visibility": null,
            "align_self": null,
            "height": null,
            "min_height": null,
            "padding": null,
            "grid_auto_rows": null,
            "grid_gap": null,
            "max_width": null,
            "order": null,
            "_view_module_version": "1.2.0",
            "grid_template_areas": null,
            "object_position": null,
            "object_fit": null,
            "grid_auto_columns": null,
            "margin": null,
            "display": null,
            "left": null
          }
        },
        "e27a581b8bfa40549f1cd3f394ad1a08": {
          "model_module": "@jupyter-widgets/controls",
          "model_name": "DescriptionStyleModel",
          "state": {
            "_view_name": "StyleView",
            "_model_name": "DescriptionStyleModel",
            "description_width": "",
            "_view_module": "@jupyter-widgets/base",
            "_model_module_version": "1.5.0",
            "_view_count": null,
            "_view_module_version": "1.2.0",
            "_model_module": "@jupyter-widgets/controls"
          }
        },
        "a8fece8730664ec9bbfae591fe8d005f": {
          "model_module": "@jupyter-widgets/base",
          "model_name": "LayoutModel",
          "state": {
            "_view_name": "LayoutView",
            "grid_template_rows": null,
            "right": null,
            "justify_content": null,
            "_view_module": "@jupyter-widgets/base",
            "overflow": null,
            "_model_module_version": "1.2.0",
            "_view_count": null,
            "flex_flow": null,
            "width": null,
            "min_width": null,
            "border": null,
            "align_items": null,
            "bottom": null,
            "_model_module": "@jupyter-widgets/base",
            "top": null,
            "grid_column": null,
            "overflow_y": null,
            "overflow_x": null,
            "grid_auto_flow": null,
            "grid_area": null,
            "grid_template_columns": null,
            "flex": null,
            "_model_name": "LayoutModel",
            "justify_items": null,
            "grid_row": null,
            "max_height": null,
            "align_content": null,
            "visibility": null,
            "align_self": null,
            "height": null,
            "min_height": null,
            "padding": null,
            "grid_auto_rows": null,
            "grid_gap": null,
            "max_width": null,
            "order": null,
            "_view_module_version": "1.2.0",
            "grid_template_areas": null,
            "object_position": null,
            "object_fit": null,
            "grid_auto_columns": null,
            "margin": null,
            "display": null,
            "left": null
          }
        },
        "ebf9bf6e85c94cbf830733eb9157b5cf": {
          "model_module": "@jupyter-widgets/controls",
          "model_name": "HBoxModel",
          "state": {
            "_view_name": "HBoxView",
            "_dom_classes": [],
            "_model_name": "HBoxModel",
            "_view_module": "@jupyter-widgets/controls",
            "_model_module_version": "1.5.0",
            "_view_count": null,
            "_view_module_version": "1.5.0",
            "box_style": "",
            "layout": "IPY_MODEL_2cac0c64e77f48c08c6f1b6ccb889e1c",
            "_model_module": "@jupyter-widgets/controls",
            "children": [
              "IPY_MODEL_239a042bd986402784abb313609d0840",
              "IPY_MODEL_e427de09f5504477b9ea114262884c35"
            ]
          }
        },
        "2cac0c64e77f48c08c6f1b6ccb889e1c": {
          "model_module": "@jupyter-widgets/base",
          "model_name": "LayoutModel",
          "state": {
            "_view_name": "LayoutView",
            "grid_template_rows": null,
            "right": null,
            "justify_content": null,
            "_view_module": "@jupyter-widgets/base",
            "overflow": null,
            "_model_module_version": "1.2.0",
            "_view_count": null,
            "flex_flow": null,
            "width": null,
            "min_width": null,
            "border": null,
            "align_items": null,
            "bottom": null,
            "_model_module": "@jupyter-widgets/base",
            "top": null,
            "grid_column": null,
            "overflow_y": null,
            "overflow_x": null,
            "grid_auto_flow": null,
            "grid_area": null,
            "grid_template_columns": null,
            "flex": null,
            "_model_name": "LayoutModel",
            "justify_items": null,
            "grid_row": null,
            "max_height": null,
            "align_content": null,
            "visibility": null,
            "align_self": null,
            "height": null,
            "min_height": null,
            "padding": null,
            "grid_auto_rows": null,
            "grid_gap": null,
            "max_width": null,
            "order": null,
            "_view_module_version": "1.2.0",
            "grid_template_areas": null,
            "object_position": null,
            "object_fit": null,
            "grid_auto_columns": null,
            "margin": null,
            "display": null,
            "left": null
          }
        },
        "239a042bd986402784abb313609d0840": {
          "model_module": "@jupyter-widgets/controls",
          "model_name": "FloatProgressModel",
          "state": {
            "_view_name": "ProgressView",
            "style": "IPY_MODEL_79b0ccb050ce43f797185c88fc6c56a4",
            "_dom_classes": [],
            "description": "100%",
            "_model_name": "FloatProgressModel",
            "bar_style": "success",
            "max": 1497,
            "_view_module": "@jupyter-widgets/controls",
            "_model_module_version": "1.5.0",
            "value": 1497,
            "_view_count": null,
            "_view_module_version": "1.5.0",
            "orientation": "horizontal",
            "min": 0,
            "description_tooltip": null,
            "_model_module": "@jupyter-widgets/controls",
            "layout": "IPY_MODEL_98f9f9085ce748968fa2f3c5066f51cf"
          }
        },
        "e427de09f5504477b9ea114262884c35": {
          "model_module": "@jupyter-widgets/controls",
          "model_name": "HTMLModel",
          "state": {
            "_view_name": "HTMLView",
            "style": "IPY_MODEL_32a8497a8bc54509ad402796f89db98f",
            "_dom_classes": [],
            "description": "",
            "_model_name": "HTMLModel",
            "placeholder": "​",
            "_view_module": "@jupyter-widgets/controls",
            "_model_module_version": "1.5.0",
            "value": " 1497/1497 [07:21&lt;00:00,  3.39it/s]",
            "_view_count": null,
            "_view_module_version": "1.5.0",
            "description_tooltip": null,
            "_model_module": "@jupyter-widgets/controls",
            "layout": "IPY_MODEL_c10700e654b54543b2e7044c210039bd"
          }
        },
        "79b0ccb050ce43f797185c88fc6c56a4": {
          "model_module": "@jupyter-widgets/controls",
          "model_name": "ProgressStyleModel",
          "state": {
            "_view_name": "StyleView",
            "_model_name": "ProgressStyleModel",
            "description_width": "initial",
            "_view_module": "@jupyter-widgets/base",
            "_model_module_version": "1.5.0",
            "_view_count": null,
            "_view_module_version": "1.2.0",
            "bar_color": null,
            "_model_module": "@jupyter-widgets/controls"
          }
        },
        "98f9f9085ce748968fa2f3c5066f51cf": {
          "model_module": "@jupyter-widgets/base",
          "model_name": "LayoutModel",
          "state": {
            "_view_name": "LayoutView",
            "grid_template_rows": null,
            "right": null,
            "justify_content": null,
            "_view_module": "@jupyter-widgets/base",
            "overflow": null,
            "_model_module_version": "1.2.0",
            "_view_count": null,
            "flex_flow": null,
            "width": null,
            "min_width": null,
            "border": null,
            "align_items": null,
            "bottom": null,
            "_model_module": "@jupyter-widgets/base",
            "top": null,
            "grid_column": null,
            "overflow_y": null,
            "overflow_x": null,
            "grid_auto_flow": null,
            "grid_area": null,
            "grid_template_columns": null,
            "flex": null,
            "_model_name": "LayoutModel",
            "justify_items": null,
            "grid_row": null,
            "max_height": null,
            "align_content": null,
            "visibility": null,
            "align_self": null,
            "height": null,
            "min_height": null,
            "padding": null,
            "grid_auto_rows": null,
            "grid_gap": null,
            "max_width": null,
            "order": null,
            "_view_module_version": "1.2.0",
            "grid_template_areas": null,
            "object_position": null,
            "object_fit": null,
            "grid_auto_columns": null,
            "margin": null,
            "display": null,
            "left": null
          }
        },
        "32a8497a8bc54509ad402796f89db98f": {
          "model_module": "@jupyter-widgets/controls",
          "model_name": "DescriptionStyleModel",
          "state": {
            "_view_name": "StyleView",
            "_model_name": "DescriptionStyleModel",
            "description_width": "",
            "_view_module": "@jupyter-widgets/base",
            "_model_module_version": "1.5.0",
            "_view_count": null,
            "_view_module_version": "1.2.0",
            "_model_module": "@jupyter-widgets/controls"
          }
        },
        "c10700e654b54543b2e7044c210039bd": {
          "model_module": "@jupyter-widgets/base",
          "model_name": "LayoutModel",
          "state": {
            "_view_name": "LayoutView",
            "grid_template_rows": null,
            "right": null,
            "justify_content": null,
            "_view_module": "@jupyter-widgets/base",
            "overflow": null,
            "_model_module_version": "1.2.0",
            "_view_count": null,
            "flex_flow": null,
            "width": null,
            "min_width": null,
            "border": null,
            "align_items": null,
            "bottom": null,
            "_model_module": "@jupyter-widgets/base",
            "top": null,
            "grid_column": null,
            "overflow_y": null,
            "overflow_x": null,
            "grid_auto_flow": null,
            "grid_area": null,
            "grid_template_columns": null,
            "flex": null,
            "_model_name": "LayoutModel",
            "justify_items": null,
            "grid_row": null,
            "max_height": null,
            "align_content": null,
            "visibility": null,
            "align_self": null,
            "height": null,
            "min_height": null,
            "padding": null,
            "grid_auto_rows": null,
            "grid_gap": null,
            "max_width": null,
            "order": null,
            "_view_module_version": "1.2.0",
            "grid_template_areas": null,
            "object_position": null,
            "object_fit": null,
            "grid_auto_columns": null,
            "margin": null,
            "display": null,
            "left": null
          }
        }
      }
    }
  },
  "cells": [
    {
      "cell_type": "code",
      "metadata": {
        "colab": {
          "base_uri": "https://localhost:8080/"
        },
        "id": "AIfSG6uYkA4d",
        "outputId": "8393fe44-e80c-4430-c302-9db285eb2deb"
      },
      "source": [
        "# Install CIOOS-Ocean-Standards package\n",
        "!pip install git+git://github.com/cioos-siooc/cioos-siooc-standards.git@jessy-dev#egg=version_subpkg\\&subdirectory=ocean_standards \n",
        " "
      ],
      "execution_count": 1,
      "outputs": [
        {
          "output_type": "stream",
          "text": [
            "Collecting version_subpkg\n",
            "  Cloning git://github.com/cioos-siooc/cioos-siooc-standards.git (to revision jessy-dev) to /tmp/pip-install-fzoeo5zz/version-subpkg\n",
            "  Running command git clone -q git://github.com/cioos-siooc/cioos-siooc-standards.git /tmp/pip-install-fzoeo5zz/version-subpkg\n",
            "  Running command git checkout -b jessy-dev --track origin/jessy-dev\n",
            "  Switched to a new branch 'jessy-dev'\n",
            "  Branch 'jessy-dev' set up to track remote branch 'jessy-dev' from 'origin'.\n",
            "\u001b[33m  WARNING: Generating metadata for package version-subpkg produced metadata for project name cioos-standards. Fix your #egg=version-subpkg fragments.\u001b[0m\n",
            "Requirement already satisfied: requests in /usr/local/lib/python3.7/dist-packages (from cioos-standards) (2.23.0)\n",
            "Requirement already satisfied: pandas in /usr/local/lib/python3.7/dist-packages (from cioos-standards) (1.1.5)\n",
            "Collecting xmltodict\n",
            "  Downloading https://files.pythonhosted.org/packages/28/fd/30d5c1d3ac29ce229f6bdc40bbc20b28f716e8b363140c26eff19122d8a5/xmltodict-0.12.0-py2.py3-none-any.whl\n",
            "Requirement already satisfied: tqdm in /usr/local/lib/python3.7/dist-packages (from cioos-standards) (4.41.1)\n",
            "Requirement already satisfied: certifi>=2017.4.17 in /usr/local/lib/python3.7/dist-packages (from requests->cioos-standards) (2020.12.5)\n",
            "Requirement already satisfied: urllib3!=1.25.0,!=1.25.1,<1.26,>=1.21.1 in /usr/local/lib/python3.7/dist-packages (from requests->cioos-standards) (1.24.3)\n",
            "Requirement already satisfied: chardet<4,>=3.0.2 in /usr/local/lib/python3.7/dist-packages (from requests->cioos-standards) (3.0.4)\n",
            "Requirement already satisfied: idna<3,>=2.5 in /usr/local/lib/python3.7/dist-packages (from requests->cioos-standards) (2.10)\n",
            "Requirement already satisfied: python-dateutil>=2.7.3 in /usr/local/lib/python3.7/dist-packages (from pandas->cioos-standards) (2.8.1)\n",
            "Requirement already satisfied: numpy>=1.15.4 in /usr/local/lib/python3.7/dist-packages (from pandas->cioos-standards) (1.19.5)\n",
            "Requirement already satisfied: pytz>=2017.2 in /usr/local/lib/python3.7/dist-packages (from pandas->cioos-standards) (2018.9)\n",
            "Requirement already satisfied: six>=1.5 in /usr/local/lib/python3.7/dist-packages (from python-dateutil>=2.7.3->pandas->cioos-standards) (1.15.0)\n",
            "Building wheels for collected packages: cioos-standards, cioos-standards\n",
            "  Building wheel for cioos-standards (setup.py) ... \u001b[?25l\u001b[?25hdone\n",
            "  Created wheel for cioos-standards: filename=cioos_standards-0.1.0-cp37-none-any.whl size=43934 sha256=0cd93719803117ab98329b4a512e8c0779d72d5d50012d05ee88ad83dbca4697\n",
            "  Stored in directory: /tmp/pip-ephem-wheel-cache-a2rkay9y/wheels/6c/ae/53/c4b40a4509f26f103a75e56ecd62e84de233b79d55ae0e4351\n",
            "  Building wheel for cioos-standards (setup.py) ... \u001b[?25lerror\n",
            "\u001b[31m  ERROR: Failed building wheel for cioos-standards\u001b[0m\n",
            "\u001b[?25h  Running setup.py clean for cioos-standards\n",
            "\u001b[31m  ERROR: Failed cleaning build dir for cioos-standards\u001b[0m\n",
            "Successfully built cioos-standards\n",
            "Failed to build cioos-standards\n",
            "Installing collected packages: xmltodict, cioos-standards\n",
            "Successfully installed cioos-standards-0.1.0 xmltodict-0.12.0\n"
          ],
          "name": "stdout"
        }
      ]
    },
    {
      "cell_type": "code",
      "metadata": {
        "colab": {
          "base_uri": "https://localhost:8080/"
        },
        "id": "rOghV_C8kb-z",
        "outputId": "11f59f35-916c-461b-b028-0582b0e4dc35"
      },
      "source": [
        "# Import modules\n",
        "from ocean_standards import cf, erddap, nerc\n",
        "import pandas as pd\n",
        "import warnings\n",
        "from tqdm.auto import tqdm\n",
        "import re\n",
        "tqdm.pandas()"
      ],
      "execution_count": 78,
      "outputs": [
        {
          "output_type": "stream",
          "text": [
            "/usr/local/lib/python3.7/dist-packages/tqdm/std.py:658: FutureWarning: The Panel class is removed from pandas. Accessing it from the top-level namespace will also be removed in the next version\n",
            "  from pandas import Panel\n"
          ],
          "name": "stderr"
        }
      ]
    },
    {
      "cell_type": "markdown",
      "metadata": {
        "id": "HFMR9prk7oq-"
      },
      "source": [
        "# Import GF3 to vocabulary mapping sheet\n"
      ]
    },
    {
      "cell_type": "code",
      "metadata": {
        "id": "lw6h6tre9abB"
      },
      "source": [
        "vocabulary_table_link = \"https://raw.githubusercontent.com/cioos-siooc/cioos-siooc_data_transform/improve-xarray-tools/projects/odf_transform/odf_transform/vocabulary/CIOOS_Vocabulary_List%20-%20Complete_Vocabulary.csv\"\n",
        "df = pd.read_csv(vocabulary_table_link)\n",
        "original_columns = df.columns"
      ],
      "execution_count": 111,
      "outputs": []
    },
    {
      "cell_type": "code",
      "metadata": {
        "id": "E5iqIFWEq4Fd"
      },
      "source": [
        "# Retrieve Vocabularies id and prefLabel for P01, P07 and CF standard name \n",
        "df_P01 = nerc.get_nvs_variable_info(vocabulary='P01')\n",
        "df_P06 = nerc.get_nvs_variable_info(vocabulary='P06')\n",
        "df_P07 = nerc.get_nvs_variable_info(vocabulary='P07')\n",
        "df_cf = cf.get_cf_names()"
      ],
      "execution_count": 7,
      "outputs": []
    },
    {
      "cell_type": "markdown",
      "metadata": {
        "id": "mCTCqy-fAt4y"
      },
      "source": [
        "# P01 BODC "
      ]
    },
    {
      "cell_type": "code",
      "metadata": {
        "colab": {
          "base_uri": "https://localhost:8080/",
          "height": 168,
          "referenced_widgets": [
            "83ba4aaf527b442c9171de73843ce22b",
            "4c934c4b7b2d47eba30a3e2190141131",
            "54841dd69426415e81803660174013e2",
            "2b8c0582639344bfb95f9572154f9945",
            "282c53cb9d29466aa4414ad8e308fb1a",
            "2e75c4e743ad423499fb6dab6c94830f",
            "e27a581b8bfa40549f1cd3f394ad1a08",
            "a8fece8730664ec9bbfae591fe8d005f"
          ]
        },
        "id": "OJLPm2qZSxlR",
        "outputId": "2851b7b8-bc25-43eb-c471-22869bc5c3bd"
      },
      "source": [
        "# Filter Selected P01\n",
        "selected_p01_list = df['SDN:P01::id'].dropna().drop_duplicates()\n",
        "df_P01_full_table = pd.DataFrame()\n",
        "for nerc_id in tqdm(selected_p01_list):\n",
        "    try:\n",
        "        df_P01_full_table = pd.concat((df_P01_full_table, nerc.get_nvs_variable_info(nerc_id=nerc_id)))\n",
        "    except:\n",
        "        warnings.warn('Invalir URL: {0}'.format(nerc_id))\n"
      ],
      "execution_count": 28,
      "outputs": [
        {
          "output_type": "display_data",
          "data": {
            "application/vnd.jupyter.widget-view+json": {
              "model_id": "83ba4aaf527b442c9171de73843ce22b",
              "version_minor": 0,
              "version_major": 2
            },
            "text/plain": [
              "HBox(children=(FloatProgress(value=0.0, max=121.0), HTML(value='')))"
            ]
          },
          "metadata": {
            "tags": []
          }
        },
        {
          "output_type": "stream",
          "text": [
            "/usr/local/lib/python3.7/dist-packages/ipykernel_launcher.py:8: UserWarning: Invalir URL: None\n",
            "  \n",
            "/usr/local/lib/python3.7/dist-packages/ipykernel_launcher.py:8: UserWarning: Invalir URL: ToBeDefined\n",
            "  \n",
            "/usr/local/lib/python3.7/dist-packages/ipykernel_launcher.py:8: UserWarning: Invalir URL: http://vocab.nerc.ac.uk/collection/S29/current/ATTNZS01\n",
            "  \n"
          ],
          "name": "stderr"
        },
        {
          "output_type": "stream",
          "text": [
            "\n"
          ],
          "name": "stdout"
        }
      ]
    },
    {
      "cell_type": "code",
      "metadata": {
        "id": "S-kX9teMA_v6"
      },
      "source": [
        "# For each matched terms within GF3 update the columns based on the NERC_ID\n",
        "for nerc_id, row in df_P01_full_table.set_index('@id').iterrows():\n",
        "    is_matching_p01 = df['SDN:P01::id'] == nerc_id\n",
        "    df.loc[is_matching_p01,'SDN:P01::urn'] = re.search(\"\\/([A-Za-z0-9\\_]*)\\/*$\",nerc_id)[1]\n",
        "    df.loc[is_matching_p01,'SDN:P01::prefLabel'] = row['prefLabel-en']\n",
        "    df.loc[is_matching_p01,'SDN:P01::def'] = row['prefLabel-en']\n",
        "    df.loc[is_matching_p01,'definition'] = row['definition-en']\n",
        "\n",
        "df['sdn_parameter_urn'] = \"SDN:P01::\"+ df['SDN:P01::urn']\n",
        "df['sdn_parameter_name'] = df['SDN:P01::prefLabel']\n",
        "    "
      ],
      "execution_count": 52,
      "outputs": []
    },
    {
      "cell_type": "markdown",
      "metadata": {
        "id": "FjNaWRr_Axua"
      },
      "source": [
        "# CF Standard Name P07"
      ]
    },
    {
      "cell_type": "code",
      "metadata": {
        "id": "t8p_RT6HG705"
      },
      "source": [
        "cf_to_p07 = {row['prefLabel']:row['@id'] for index, row in df_P07.iterrows() }\n",
        "df['SDN:P07::id'] = df['standard_name'].replace(cf_to_p07)"
      ],
      "execution_count": 61,
      "outputs": []
    },
    {
      "cell_type": "markdown",
      "metadata": {
        "id": "kWRjeiq_ISx9"
      },
      "source": [
        "# P06 Units "
      ]
    },
    {
      "cell_type": "code",
      "metadata": {
        "colab": {
          "base_uri": "https://localhost:8080/",
          "height": 66,
          "referenced_widgets": [
            "ebf9bf6e85c94cbf830733eb9157b5cf",
            "2cac0c64e77f48c08c6f1b6ccb889e1c",
            "239a042bd986402784abb313609d0840",
            "e427de09f5504477b9ea114262884c35",
            "79b0ccb050ce43f797185c88fc6c56a4",
            "98f9f9085ce748968fa2f3c5066f51cf",
            "32a8497a8bc54509ad402796f89db98f",
            "c10700e654b54543b2e7044c210039bd"
          ]
        },
        "id": "7hxELFAqUGq0",
        "outputId": "c1fd7753-f3fa-4527-e92a-ae06695d8d2a"
      },
      "source": [
        "def retrieve_p06(unit):\n",
        "    if type(unit) == list:\n",
        "        unit = unit[0]\n",
        "    try: \n",
        "        return nerc.get_p06_units_id(unit)\n",
        "    except:\n",
        "        return None\n",
        "\n",
        "df['suggested_P06_id'] = df['expected_units'].str.split('|').progress_apply(retrieve_p06)\n",
        "p06_label = df_P06.set_index('@id')['prefLabel'].to_dict()"
      ],
      "execution_count": 81,
      "outputs": [
        {
          "output_type": "display_data",
          "data": {
            "application/vnd.jupyter.widget-view+json": {
              "model_id": "ebf9bf6e85c94cbf830733eb9157b5cf",
              "version_minor": 0,
              "version_major": 2
            },
            "text/plain": [
              "HBox(children=(FloatProgress(value=0.0, max=1497.0), HTML(value='')))"
            ]
          },
          "metadata": {
            "tags": []
          }
        },
        {
          "output_type": "stream",
          "text": [
            "\n"
          ],
          "name": "stdout"
        }
      ]
    },
    {
      "cell_type": "code",
      "metadata": {
        "id": "npMRy2j2MKUD"
      },
      "source": [
        "df['suggested_P06_label'] = df['suggested_P06_id'].replace(df_P06.set_index('@id')['prefLabel'].to_dict())"
      ],
      "execution_count": 87,
      "outputs": []
    },
    {
      "cell_type": "code",
      "metadata": {
        "id": "XyAoXnb2NPFM"
      },
      "source": [
        "# If missing term fill it with the suggested term\n",
        "df['SDN:P06::id'] = df['SDN:P06::id'].fillna(df['suggested_P06_id'])\n",
        "df['SDN:P06::prefLabel'] = df['SDN:P06::id'].fillna(df['suggested_P06_label'])"
      ],
      "execution_count": 93,
      "outputs": []
    },
    {
      "cell_type": "code",
      "metadata": {
        "colab": {
          "base_uri": "https://localhost:8080/",
          "height": 442
        },
        "id": "HNaJ4l6zMl3I",
        "outputId": "26954a82-a378-43c7-a2d6-2829e6fdbd1e"
      },
      "source": [
        "# Show conflicting suggestions\n",
        "conflicted_P06_indexes = df[df['SDN:P06::id']!= df[\"suggested_P06_id\"]].dropna(subset=['SDN:P06::id','suggested_P06_id']).index\n",
        "df.loc[conflicted_P06_indexes]"
      ],
      "execution_count": 103,
      "outputs": [
        {
          "output_type": "execute_result",
          "data": {
            "text/html": [
              "<div>\n",
              "<style scoped>\n",
              "    .dataframe tbody tr th:only-of-type {\n",
              "        vertical-align: middle;\n",
              "    }\n",
              "\n",
              "    .dataframe tbody tr th {\n",
              "        vertical-align: top;\n",
              "    }\n",
              "\n",
              "    .dataframe thead th {\n",
              "        text-align: right;\n",
              "    }\n",
              "</style>\n",
              "<table border=\"1\" class=\"dataframe\">\n",
              "  <thead>\n",
              "    <tr style=\"text-align: right;\">\n",
              "      <th></th>\n",
              "      <th>Vocabulary</th>\n",
              "      <th>name</th>\n",
              "      <th>Users</th>\n",
              "      <th>MEDS:STATUS</th>\n",
              "      <th>MEDS:CATEGORY_MEANING_E</th>\n",
              "      <th>MEDS:CATEGORY_MEANING_F</th>\n",
              "      <th>MEDS:UNITS_DESCRIPTOR_E</th>\n",
              "      <th>MEDS:UNITS_DESCRIPTOR_F</th>\n",
              "      <th>MEDS:CF_CODE</th>\n",
              "      <th>MEDS:NETCDF_LONG_NAME</th>\n",
              "      <th>MEDS:WMO_CODE_TABLE_ID</th>\n",
              "      <th>MEDS:CONVENTION</th>\n",
              "      <th>BIO:units</th>\n",
              "      <th>BIO:P06 urn</th>\n",
              "      <th>BIO:P06 name</th>\n",
              "      <th>BIO:P01 urn</th>\n",
              "      <th>BIO:P01 name</th>\n",
              "      <th>BIO:CF_CODE</th>\n",
              "      <th>IML:definition</th>\n",
              "      <th>IML:units</th>\n",
              "      <th>long_name</th>\n",
              "      <th>expected_units</th>\n",
              "      <th>expected_scale</th>\n",
              "      <th>expected_instrument</th>\n",
              "      <th>expected_calibration_review</th>\n",
              "      <th>variable_name</th>\n",
              "      <th>standard_name</th>\n",
              "      <th>SDN:P07::id</th>\n",
              "      <th>SDN:P01::id</th>\n",
              "      <th>SDN:P01::urn</th>\n",
              "      <th>SDN:P01::prefLabel</th>\n",
              "      <th>sdn_parameter_urn</th>\n",
              "      <th>sdn_parameter_name</th>\n",
              "      <th>SDN:P06::id</th>\n",
              "      <th>SDN:P06::urn</th>\n",
              "      <th>SDN:P06::prefLabel</th>\n",
              "      <th>sdn_uom_urn</th>\n",
              "      <th>sdn_uom_name</th>\n",
              "      <th>definition</th>\n",
              "      <th>convention</th>\n",
              "      <th>scale_factor</th>\n",
              "      <th>GF3_name</th>\n",
              "      <th>SDN:P01::Alternative Name</th>\n",
              "      <th>SDN:P01::def</th>\n",
              "      <th>suggested_P06_id</th>\n",
              "      <th>suggested_P06_label</th>\n",
              "    </tr>\n",
              "  </thead>\n",
              "  <tbody>\n",
              "    <tr>\n",
              "      <th>84</th>\n",
              "      <td>GF3</td>\n",
              "      <td>ATTU</td>\n",
              "      <td>BIO,IML</td>\n",
              "      <td>A</td>\n",
              "      <td>Instrument characteristics</td>\n",
              "      <td>Caractéristiques de l'instrument</td>\n",
              "      <td>per metre</td>\n",
              "      <td>par mètre</td>\n",
              "      <td>NaN</td>\n",
              "      <td>NaN</td>\n",
              "      <td>NaN</td>\n",
              "      <td>NaN</td>\n",
              "      <td>/m</td>\n",
              "      <td>NOPM</td>\n",
              "      <td>number per metre</td>\n",
              "      <td>ATTNXXZZ</td>\n",
              "      <td>Attenuation (unspecified wavelength) per unit ...</td>\n",
              "      <td>NaN</td>\n",
              "      <td>NaN</td>\n",
              "      <td>NaN</td>\n",
              "      <td>NaN</td>\n",
              "      <td>/m|per metre</td>\n",
              "      <td>NaN</td>\n",
              "      <td>NaN</td>\n",
              "      <td>NaN</td>\n",
              "      <td>NaN</td>\n",
              "      <td>NaN</td>\n",
              "      <td>NaN</td>\n",
              "      <td>http://vocab.nerc.ac.uk/collection/P01/current...</td>\n",
              "      <td>ATTNXXZZ</td>\n",
              "      <td>Attenuation (unspecified wavelength) per unit ...</td>\n",
              "      <td>SDN:P01::ATTNXXZZ</td>\n",
              "      <td>Attenuation (unspecified wavelength) per unit ...</td>\n",
              "      <td>http://vocab.nerc.ac.uk/collection/P06/current...</td>\n",
              "      <td>NOPM</td>\n",
              "      <td>http://vocab.nerc.ac.uk/collection/P06/current...</td>\n",
              "      <td>SDN:P06::NOPM</td>\n",
              "      <td>Number per metre</td>\n",
              "      <td>Unavailable</td>\n",
              "      <td>NaN</td>\n",
              "      <td>NaN</td>\n",
              "      <td>ATTU</td>\n",
              "      <td>NaN</td>\n",
              "      <td>Attenuation (unspecified wavelength) per unit ...</td>\n",
              "      <td>http://vocab.nerc.ac.uk/collection/P06/current...</td>\n",
              "      <td>per metre</td>\n",
              "    </tr>\n",
              "    <tr>\n",
              "      <th>102</th>\n",
              "      <td>GF3</td>\n",
              "      <td>BEAM</td>\n",
              "      <td>BIO,IML,MEDS</td>\n",
              "      <td>A</td>\n",
              "      <td>Instrument characteristics</td>\n",
              "      <td>Caractéristiques de l'instrument</td>\n",
              "      <td>dimensionless</td>\n",
              "      <td>sans dimension</td>\n",
              "      <td>NaN</td>\n",
              "      <td>NaN</td>\n",
              "      <td>NaN</td>\n",
              "      <td>NaN</td>\n",
              "      <td>NaN</td>\n",
              "      <td>UCNT</td>\n",
              "      <td>counts</td>\n",
              "      <td>TNIHCE(01,02,03,04</td>\n",
              "      <td>Echo intensity from the water body by moored a...</td>\n",
              "      <td>NaN</td>\n",
              "      <td>NaN</td>\n",
              "      <td>NaN</td>\n",
              "      <td>NaN</td>\n",
              "      <td>dimensionless</td>\n",
              "      <td>NaN</td>\n",
              "      <td>NaN</td>\n",
              "      <td>NaN</td>\n",
              "      <td>NaN</td>\n",
              "      <td>NaN</td>\n",
              "      <td>NaN</td>\n",
              "      <td>NaN</td>\n",
              "      <td>NaN</td>\n",
              "      <td>NaN</td>\n",
              "      <td>NaN</td>\n",
              "      <td>NaN</td>\n",
              "      <td>http://vocab.nerc.ac.uk/collection/P06/current...</td>\n",
              "      <td>UCNT</td>\n",
              "      <td>http://vocab.nerc.ac.uk/collection/P06/current...</td>\n",
              "      <td>SDN:P06::UCNT</td>\n",
              "      <td>Counts</td>\n",
              "      <td>NaN</td>\n",
              "      <td>NaN</td>\n",
              "      <td>NaN</td>\n",
              "      <td>BEAM</td>\n",
              "      <td>NaN</td>\n",
              "      <td>NaN</td>\n",
              "      <td>http://vocab.nerc.ac.uk/collection/P06/current...</td>\n",
              "      <td>Dimensionless</td>\n",
              "    </tr>\n",
              "    <tr>\n",
              "      <th>410</th>\n",
              "      <td>GF3</td>\n",
              "      <td>LATD</td>\n",
              "      <td>BIO,IML,MEDS</td>\n",
              "      <td>A</td>\n",
              "      <td>Position and navigation</td>\n",
              "      <td>Position et navigation</td>\n",
              "      <td>degree(angle)</td>\n",
              "      <td>degré(angle)</td>\n",
              "      <td>NaN</td>\n",
              "      <td>NaN</td>\n",
              "      <td>NaN</td>\n",
              "      <td>NaN</td>\n",
              "      <td>degrees</td>\n",
              "      <td>UAAA</td>\n",
              "      <td>degrees</td>\n",
              "      <td>ALATZZ01</td>\n",
              "      <td>Latitude north</td>\n",
              "      <td>latitude</td>\n",
              "      <td>NaN</td>\n",
              "      <td>NaN</td>\n",
              "      <td>NaN</td>\n",
              "      <td>degrees_north|degree|deg|degrees</td>\n",
              "      <td>NaN</td>\n",
              "      <td>NaN</td>\n",
              "      <td>NaN</td>\n",
              "      <td>NaN</td>\n",
              "      <td>latitude</td>\n",
              "      <td>http://vocab.nerc.ac.uk/collection/P07/current...</td>\n",
              "      <td>http://vocab.nerc.ac.uk/collection/P01/current...</td>\n",
              "      <td>ALATZZ01</td>\n",
              "      <td>Latitude north</td>\n",
              "      <td>SDN:P01::ALATZZ01</td>\n",
              "      <td>Latitude north</td>\n",
              "      <td>http://vocab.nerc.ac.uk/collection/P06/current...</td>\n",
              "      <td>UAAA</td>\n",
              "      <td>http://vocab.nerc.ac.uk/collection/P06/current...</td>\n",
              "      <td>SDN:P06::UAAA</td>\n",
              "      <td>Degrees</td>\n",
              "      <td>Unavailable</td>\n",
              "      <td>NaN</td>\n",
              "      <td>NaN</td>\n",
              "      <td>LATD</td>\n",
              "      <td>NaN</td>\n",
              "      <td>Latitude north</td>\n",
              "      <td>http://vocab.nerc.ac.uk/collection/P06/current...</td>\n",
              "      <td>Degrees north</td>\n",
              "    </tr>\n",
              "    <tr>\n",
              "      <th>424</th>\n",
              "      <td>GF3</td>\n",
              "      <td>LOND</td>\n",
              "      <td>BIO,IML,MEDS</td>\n",
              "      <td>A</td>\n",
              "      <td>Position and navigation</td>\n",
              "      <td>Position et navigation</td>\n",
              "      <td>degree(angle)</td>\n",
              "      <td>degré(angle)</td>\n",
              "      <td>NaN</td>\n",
              "      <td>NaN</td>\n",
              "      <td>NaN</td>\n",
              "      <td>NaN</td>\n",
              "      <td>degrees</td>\n",
              "      <td>UAAA</td>\n",
              "      <td>degrees</td>\n",
              "      <td>ALONZZ01</td>\n",
              "      <td>Longitude east</td>\n",
              "      <td>longitude</td>\n",
              "      <td>NaN</td>\n",
              "      <td>NaN</td>\n",
              "      <td>NaN</td>\n",
              "      <td>degrees_east|degree|deg|degrees</td>\n",
              "      <td>NaN</td>\n",
              "      <td>NaN</td>\n",
              "      <td>NaN</td>\n",
              "      <td>NaN</td>\n",
              "      <td>longitude</td>\n",
              "      <td>http://vocab.nerc.ac.uk/collection/P07/current...</td>\n",
              "      <td>http://vocab.nerc.ac.uk/collection/P01/current...</td>\n",
              "      <td>ALONZZ01</td>\n",
              "      <td>Longitude east</td>\n",
              "      <td>SDN:P01::ALONZZ01</td>\n",
              "      <td>Longitude east</td>\n",
              "      <td>http://vocab.nerc.ac.uk/collection/P06/current...</td>\n",
              "      <td>UAAA</td>\n",
              "      <td>http://vocab.nerc.ac.uk/collection/P06/current...</td>\n",
              "      <td>SDN:P06::UAAA</td>\n",
              "      <td>Degrees</td>\n",
              "      <td>Unavailable</td>\n",
              "      <td>NaN</td>\n",
              "      <td>NaN</td>\n",
              "      <td>LOND</td>\n",
              "      <td>NaN</td>\n",
              "      <td>Longitude east</td>\n",
              "      <td>http://vocab.nerc.ac.uk/collection/P06/current...</td>\n",
              "      <td>Degrees east</td>\n",
              "    </tr>\n",
              "    <tr>\n",
              "      <th>755</th>\n",
              "      <td>GF3</td>\n",
              "      <td>STRD</td>\n",
              "      <td>BIO,IML</td>\n",
              "      <td>A</td>\n",
              "      <td>Position and navigation</td>\n",
              "      <td>Position et navigation</td>\n",
              "      <td>degree(angle) True</td>\n",
              "      <td>degré(angle) vrai</td>\n",
              "      <td>NaN</td>\n",
              "      <td>NaN</td>\n",
              "      <td>NaN</td>\n",
              "      <td>NaN</td>\n",
              "      <td>degrees</td>\n",
              "      <td>UAAA</td>\n",
              "      <td>degrees</td>\n",
              "      <td>NaN</td>\n",
              "      <td>NaN</td>\n",
              "      <td>NaN</td>\n",
              "      <td>NaN</td>\n",
              "      <td>NaN</td>\n",
              "      <td>NaN</td>\n",
              "      <td>degree True|degree</td>\n",
              "      <td>NaN</td>\n",
              "      <td>NaN</td>\n",
              "      <td>NaN</td>\n",
              "      <td>NaN</td>\n",
              "      <td>NaN</td>\n",
              "      <td>NaN</td>\n",
              "      <td>NaN</td>\n",
              "      <td>NaN</td>\n",
              "      <td>NaN</td>\n",
              "      <td>NaN</td>\n",
              "      <td>NaN</td>\n",
              "      <td>http://vocab.nerc.ac.uk/collection/P06/current...</td>\n",
              "      <td>UAAA</td>\n",
              "      <td>http://vocab.nerc.ac.uk/collection/P06/current...</td>\n",
              "      <td>SDN:P06::UAAA</td>\n",
              "      <td>Degrees</td>\n",
              "      <td>NaN</td>\n",
              "      <td>NaN</td>\n",
              "      <td>NaN</td>\n",
              "      <td>STRD</td>\n",
              "      <td>NaN</td>\n",
              "      <td>NaN</td>\n",
              "      <td>http://vocab.nerc.ac.uk/collection/P06/current...</td>\n",
              "      <td>Degrees True</td>\n",
              "    </tr>\n",
              "    <tr>\n",
              "      <th>823</th>\n",
              "      <td>GF3</td>\n",
              "      <td>TRAN</td>\n",
              "      <td>BIO,IML,MEDS</td>\n",
              "      <td>A</td>\n",
              "      <td>Biological Oceanography</td>\n",
              "      <td>Océanographie biologique</td>\n",
              "      <td>percent per metre</td>\n",
              "      <td>pourcentage par mètre</td>\n",
              "      <td>NaN</td>\n",
              "      <td>NaN</td>\n",
              "      <td>NaN</td>\n",
              "      <td>NaN</td>\n",
              "      <td>%</td>\n",
              "      <td>UPCT</td>\n",
              "      <td>percent</td>\n",
              "      <td>NaN</td>\n",
              "      <td>NaN</td>\n",
              "      <td>NaN</td>\n",
              "      <td>NaN</td>\n",
              "      <td>NaN</td>\n",
              "      <td>NaN</td>\n",
              "      <td>percent per metre|percent|%</td>\n",
              "      <td>NaN</td>\n",
              "      <td>NaN</td>\n",
              "      <td>NaN</td>\n",
              "      <td>NaN</td>\n",
              "      <td>NaN</td>\n",
              "      <td>NaN</td>\n",
              "      <td>NaN</td>\n",
              "      <td>NaN</td>\n",
              "      <td>NaN</td>\n",
              "      <td>NaN</td>\n",
              "      <td>NaN</td>\n",
              "      <td>http://vocab.nerc.ac.uk/collection/P06/current...</td>\n",
              "      <td>UPCT</td>\n",
              "      <td>http://vocab.nerc.ac.uk/collection/P06/current...</td>\n",
              "      <td>SDN:P06::UPCT</td>\n",
              "      <td>Percent</td>\n",
              "      <td>NaN</td>\n",
              "      <td>NaN</td>\n",
              "      <td>NaN</td>\n",
              "      <td>TRAN</td>\n",
              "      <td>NaN</td>\n",
              "      <td>NaN</td>\n",
              "      <td>http://vocab.nerc.ac.uk/collection/P06/current...</td>\n",
              "      <td>Percent per metre</td>\n",
              "    </tr>\n",
              "  </tbody>\n",
              "</table>\n",
              "</div>"
            ],
            "text/plain": [
              "    Vocabulary  ... suggested_P06_label\n",
              "84         GF3  ...           per metre\n",
              "102        GF3  ...       Dimensionless\n",
              "410        GF3  ...       Degrees north\n",
              "424        GF3  ...        Degrees east\n",
              "755        GF3  ...        Degrees True\n",
              "823        GF3  ...   Percent per metre\n",
              "\n",
              "[6 rows x 46 columns]"
            ]
          },
          "metadata": {
            "tags": []
          },
          "execution_count": 103
        }
      ]
    },
    {
      "cell_type": "code",
      "metadata": {
        "id": "y52d6-_hOEY1"
      },
      "source": [
        "# Apply suggested terms\n",
        "df.loc[conflicted_P06_indexes,'SDN:P06::id'] = df.loc[conflicted_P06_indexes,'suggested_P06_id']\n",
        "df.loc[conflicted_P06_indexes,'SDN:P06::prefLabel'] = df.loc[conflicted_P06_indexes,'suggested_P06_label']\n"
      ],
      "execution_count": 104,
      "outputs": []
    },
    {
      "cell_type": "code",
      "metadata": {
        "id": "QzHGY-pUPbUw"
      },
      "source": [
        "# Apply restul to sdn attributes\n",
        "df['sdn_uom_urn'] = 'SDN:P06::' + df['SDN:P06::id'].str.extract(\"\\/([A-Za-z0-9\\_]*)\\/*$\")\n",
        "df['sdn_uom_name'] = df['SDN:P06::prefLabel']"
      ],
      "execution_count": 110,
      "outputs": []
    },
    {
      "cell_type": "markdown",
      "metadata": {
        "id": "lbBcfz4QJpds"
      },
      "source": [
        "# Ouput corrected Vocabulary"
      ]
    },
    {
      "cell_type": "code",
      "metadata": {
        "id": "hCc4T66mJQmx"
      },
      "source": [
        "df[original_columns].to_csv('CIOOS_Vocabulary_List - Complete_Vocabulary.csv')"
      ],
      "execution_count": 112,
      "outputs": []
    }
  ]
}