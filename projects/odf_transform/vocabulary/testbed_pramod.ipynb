{
 "cells": [
  {
   "cell_type": "code",
   "execution_count": 11,
   "metadata": {},
   "outputs": [],
   "source": [
    "import json\n",
    "from pprint import pprint as print"
   ]
  },
  {
   "cell_type": "code",
   "execution_count": 2,
   "metadata": {},
   "outputs": [
    {
     "name": "stdout",
     "output_type": "stream",
     "text": [
      "dict_keys(['BIO', 'CSIRO', 'IML', 'IOS', 'MEDS', 'NODC'])\n"
     ]
    }
   ],
   "source": [
    "with open('./dfo_vocabulary_list.json','r') as fid:\n",
    "    vocab = json.load(fid)\n",
    "print(vocab.keys())"
   ]
  },
  {
   "cell_type": "code",
   "execution_count": 3,
   "metadata": {},
   "outputs": [
    {
     "data": {
      "text/plain": [
       "dict_keys(['412E', '412ESDEV', '412L', '412LSDEV', '443E', '443L', '443LSDEV', '443SDEV', '490E', '490ESDEV', '490L', '490LSDEV', '510E', '510ESDEV', '510L', '510LSDEV', '555E', '555ESDEV', '555L', '555LSDEV', '669E', '669ESDEV', '669L', '669LSDEV', '683E', '683ESDEV', '683L', '683LSDEV', 'ABSH', 'ALKY', 'ALLO', 'ALPO', 'ALTB', 'ALTS', 'AMON', 'ATMP', 'ATMS', 'ATP_', 'ATRK', 'ATRK ', 'ATTU', 'BAC_', 'BATH', 'BATT', 'BBCA', 'BEAM', 'BECA', 'BIOV', 'BNO7', 'BUTA', 'BUTL', 'C1C2', 'CALK', 'CARO', 'CBDV', 'CDOM', 'CDOMSDEV', 'CDWT', 'CHLR', 'CHLS', 'CIDA', 'CLC3', 'CMET', 'CMNT', 'CMTM', 'CNDC', 'CNTR', 'CNTS', 'COLL', 'COND', 'CORG', 'CPCT', 'CPHL', 'CRAT', 'CTAX', 'CTOT', 'DCHG', 'DENS', 'DEPH', 'DEPO', 'DEWT', 'DIAD', 'DIAT', 'DOC_', 'DON_', 'DOXY', 'DPDT', 'DRDP', 'DRWT', 'DRYT', 'DYNH', 'ERRV', 'EWCM', 'EWCT', 'FFFF', 'FLOR', 'FLORSDEV', 'FLU_', 'FUCX', 'GDIR', 'GEAR', 'GEOP', 'GSPD', 'HCDM', 'HCDT', 'HCSP', 'HEX1', 'HEX2', 'HEXO', 'HGHT', 'HSUL', 'IDEN', 'LATD', 'LCHL', 'LHIS', 'LOND', 'LPHA', 'MAGN', 'MDVP', 'MNSV', 'MNSZ', 'MODF', 'NETR', 'NONE', 'NORG', 'NSCM', 'NSCT', 'NTOT', 'NTRA', 'NTRI', 'NTRZ', 'NUM', 'OCUR', 'OPPR', 'OSAT', 'OTMP', 'OXYG', 'OXYV', 'PCGD', 'PERI', 'PGDP', 'PHA_', 'PHOS', 'PHPH', 'PHY', 'PIM_', 'PLT_', 'POC_', 'POM_', 'PON_', 'POTM', 'POTT', 'PPR', 'PPTR', 'PRES', 'PROC', 'PRP_', 'PRSN', 'PRSV', 'PRSX', 'PSAL', 'PSAR', 'PTCH', 'PTCHSDEV', 'PVAR', 'PYPB', 'QCFF', 'QQQQ', 'RANG', 'REFR', 'RELH', 'RELP', 'ROLL', 'ROLLSDEV', 'RPOT', 'SECC', 'SEX_', 'SIGO', 'SIGP', 'SIGT', 'SLCA', 'SNCN', 'SPAR', 'SPARSDEV', 'SPEH', 'SPFR', 'SPVA', 'SPVO', 'SSAL', 'STOR', 'STRA', 'STRD', 'STRU', 'STRV', 'SVEL', 'SYTM', 'TAXN', 'TE90', 'TEMP', 'TEXT', 'TIILTSDEV', 'TILT', 'TLENBSEQ', 'TLENCNTP', 'TLENCOLL', 'TLENLBIN', 'TLENQQQQ', 'TLENTLEN', 'TLENUBIN', 'TOFF', 'TOTP', 'TPHS', 'TRAN', 'TRPH', 'TSM_', 'TSN_', 'TURB', 'UNKN', 'URE_', 'VAIS', 'VCSP', 'VILX', 'VMET', 'VOLT', 'WDIR', 'WETT', 'WSPD', 'WSPE', 'WSPN', 'WTWT', 'WVER', 'ZELU', 'ZEOX', 'ZNTH'])"
      ]
     },
     "execution_count": 3,
     "metadata": {},
     "output_type": "execute_result"
    }
   ],
   "source": [
    "vocab['BIO'].keys()"
   ]
  },
  {
   "cell_type": "code",
   "execution_count": 12,
   "metadata": {},
   "outputs": [
    {
     "name": "stdout",
     "output_type": "stream",
     "text": [
      "{'BIO:CF_CODE': nan,\n",
      " 'BIO:GF3_CODE': 'DOXY',\n",
      " 'BIO:OWNER': 'BIO',\n",
      " 'BIO:P01 name': 'Concentration of oxygen {O2 CAS 7782-44-7} per unit volume '\n",
      "                 'of the water body [dissolved plus reactive particulate '\n",
      "                 'phase] by in-situ sensor',\n",
      " 'BIO:P01 urn': 'DOXYZZ01',\n",
      " 'BIO:P06 name': 'milliliters per litre',\n",
      " 'BIO:P06 urn': 'UMLL',\n",
      " 'BIO:units': 'ml/L',\n",
      " 'CF_CODE': nan,\n",
      " 'MEDS:CATEGORY_MEANING_E': 'Biological Oceanography',\n",
      " 'MEDS:CATEGORY_MEANING_F': 'Océanographie biologique',\n",
      " 'MEDS:CF_CODE': nan,\n",
      " 'MEDS:CONVENTION': nan,\n",
      " 'MEDS:GF3_CODE': 'DOXY',\n",
      " 'MEDS:NETCDF_LONG_NAME': nan,\n",
      " 'MEDS:OWNER': 'BIO',\n",
      " 'MEDS:STATUS': 'A',\n",
      " 'MEDS:UNITS_DESCRIPTOR_E': 'millilitre per litre',\n",
      " 'MEDS:UNITS_DESCRIPTOR_F': 'millilitre par litre',\n",
      " 'MEDS:WMO_CODE_TABLE_ID': nan,\n",
      " 'MEDS:index': 334.0,\n",
      " 'NERC:P01 id': 'http://vocab.nerc.ac.uk/collection/P01/current/DOXYZZ01/',\n",
      " 'NERC:P01 urn': 'DOXYZZ01',\n",
      " 'NERC:P07 id': nan}\n",
      "'DOXYZZ01'\n"
     ]
    }
   ],
   "source": [
    "print(vocab['BIO']['DOXY'])\n",
    "print(vocab['BIO']['DOXY']['NERC:P01 urn'])"
   ]
  },
  {
   "cell_type": "code",
   "execution_count": 13,
   "metadata": {},
   "outputs": [
    {
     "data": {
      "text/plain": [
       "dict_keys(['412E', '412ESDEV', '412L', '412LSDEV', '443E', '443L', '443LSDEV', '443SDEV', '490E', '490ESDEV', '490L', '490LSDEV', '510E', '510ESDEV', '510L', '510LSDEV', '555E', '555ESDEV', '555L', '555LSDEV', '669E', '669ESDEV', '669L', '669LSDEV', '683E', '683ESDEV', '683L', '683LSDEV', 'ABSH', 'ALKY', 'ALLO', 'ALPO', 'ALTB', 'ALTS', 'AMON', 'ATMP', 'ATMS', 'ATP_', 'ATRK', 'ATRK ', 'ATTU', 'BAC_', 'BATH', 'BATT', 'BBCA', 'BEAM', 'BECA', 'BIOV', 'BNO7', 'BUTA', 'BUTL', 'C1C2', 'CALK', 'CARO', 'CBDV', 'CDOM', 'CDOMSDEV', 'CDWT', 'CHLR', 'CHLS', 'CIDA', 'CLC3', 'CMET', 'CMNT', 'CMTM', 'CNDC', 'CNTR', 'CNTS', 'COLL', 'COND', 'CORG', 'CPCT', 'CPHL', 'CRAT', 'CTAX', 'CTOT', 'DCHG', 'DENS', 'DEPH', 'DEPO', 'DEWT', 'DIAD', 'DIAT', 'DOC_', 'DON_', 'DOXY', 'DPDT', 'DRDP', 'DRWT', 'DRYT', 'DYNH', 'ERRV', 'EWCM', 'EWCT', 'FFFF', 'FLOR', 'FLORSDEV', 'FLU_', 'FUCX', 'GDIR', 'GEAR', 'GEOP', 'GSPD', 'HCDM', 'HCDT', 'HCSP', 'HEX1', 'HEX2', 'HEXO', 'HGHT', 'HSUL', 'IDEN', 'LATD', 'LCHL', 'LHIS', 'LOND', 'LPHA', 'MAGN', 'MDVP', 'MNSV', 'MNSZ', 'MODF', 'NETR', 'NONE', 'NORG', 'NSCM', 'NSCT', 'NTOT', 'NTRA', 'NTRI', 'NTRZ', 'NUM', 'OCUR', 'OPPR', 'OSAT', 'OTMP', 'OXYG', 'OXYV', 'PCGD', 'PERI', 'PGDP', 'PHA_', 'PHOS', 'PHPH', 'PHY', 'PIM_', 'PLT_', 'POC_', 'POM_', 'PON_', 'POTM', 'POTT', 'PPR', 'PPTR', 'PRES', 'PROC', 'PRP_', 'PRSN', 'PRSV', 'PRSX', 'PSAL', 'PSAR', 'PTCH', 'PTCHSDEV', 'PVAR', 'PYPB', 'QCFF', 'QQQQ', 'RANG', 'REFR', 'RELH', 'RELP', 'ROLL', 'ROLLSDEV', 'RPOT', 'SECC', 'SEX_', 'SIGO', 'SIGP', 'SIGT', 'SLCA', 'SNCN', 'SPAR', 'SPARSDEV', 'SPEH', 'SPFR', 'SPVA', 'SPVO', 'SSAL', 'STOR', 'STRA', 'STRD', 'STRU', 'STRV', 'SVEL', 'SYTM', 'TAXN', 'TE90', 'TEMP', 'TEXT', 'TIILTSDEV', 'TILT', 'TLENBSEQ', 'TLENCNTP', 'TLENCOLL', 'TLENLBIN', 'TLENQQQQ', 'TLENTLEN', 'TLENUBIN', 'TOFF', 'TOTP', 'TPHS', 'TRAN', 'TRPH', 'TSM_', 'TSN_', 'TURB', 'UNKN', 'URE_', 'VAIS', 'VCSP', 'VILX', 'VMET', 'VOLT', 'WDIR', 'WETT', 'WSPD', 'WSPE', 'WSPN', 'WTWT', 'WVER', 'ZELU', 'ZEOX', 'ZNTH'])"
      ]
     },
     "execution_count": 13,
     "metadata": {},
     "output_type": "execute_result"
    }
   ],
   "source": [
    "vocab['IML'].keys()"
   ]
  },
  {
   "cell_type": "code",
   "execution_count": 14,
   "metadata": {},
   "outputs": [
    {
     "name": "stdout",
     "output_type": "stream",
     "text": [
      "{'BIO:CF_CODE': 'sea_water_electrical_conductivity',\n",
      " 'BIO:GF3_CODE': 'COND',\n",
      " 'BIO:OWNER': 'BIO',\n",
      " 'BIO:P01 name': 'Electrical conductivity of the water body',\n",
      " 'BIO:P01 urn': 'CNDCZZ01',\n",
      " 'BIO:P06 name': nan,\n",
      " 'BIO:P06 urn': nan,\n",
      " 'BIO:units': 'mmHo',\n",
      " 'CF_CODE': 'sea_water_electrical_conductivity',\n",
      " 'MEDS:CATEGORY_MEANING_E': 'Physical Oceanography',\n",
      " 'MEDS:CATEGORY_MEANING_F': 'Océanographie physique',\n",
      " 'MEDS:CF_CODE': nan,\n",
      " 'MEDS:CONVENTION': nan,\n",
      " 'MEDS:GF3_CODE': 'COND',\n",
      " 'MEDS:NETCDF_LONG_NAME': nan,\n",
      " 'MEDS:OWNER': 'BIO',\n",
      " 'MEDS:STATUS': 'A',\n",
      " 'MEDS:UNITS_DESCRIPTOR_E': 'millimho',\n",
      " 'MEDS:UNITS_DESCRIPTOR_F': 'millimho',\n",
      " 'MEDS:WMO_CODE_TABLE_ID': nan,\n",
      " 'MEDS:index': 212.0,\n",
      " 'NERC:P01 id': 'http://vocab.nerc.ac.uk/collection/P01/current/CNDCZZ01/',\n",
      " 'NERC:P01 urn': 'CNDCZZ01',\n",
      " 'NERC:P07 id': 'http://vocab.nerc.ac.uk/collection/P07/current/CFSN0394/'}\n"
     ]
    }
   ],
   "source": [
    "print(vocab['IML']['COND'])"
   ]
  },
  {
   "cell_type": "code",
   "execution_count": null,
   "metadata": {},
   "outputs": [],
   "source": []
  }
 ],
 "metadata": {
  "kernelspec": {
   "display_name": "Python 3",
   "language": "python",
   "name": "python3"
  },
  "language_info": {
   "codemirror_mode": {
    "name": "ipython",
    "version": 3
   },
   "file_extension": ".py",
   "mimetype": "text/x-python",
   "name": "python",
   "nbconvert_exporter": "python",
   "pygments_lexer": "ipython3",
   "version": "3.7.3"
  }
 },
 "nbformat": 4,
 "nbformat_minor": 2
}
